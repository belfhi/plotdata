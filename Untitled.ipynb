{
 "cells": [
  {
   "cell_type": "code",
   "execution_count": 1,
   "metadata": {
    "collapsed": true
   },
   "outputs": [],
   "source": [
    "%matplotlib inline"
   ]
  },
  {
   "cell_type": "code",
   "execution_count": 47,
   "metadata": {
    "collapsed": true
   },
   "outputs": [],
   "source": [
    "from os import listdir\n",
    "from os.path import isfile, isdir, join\n",
    "import matplotlib as mpl\n",
    "mpl.rcParams.update({'mathtext.fontset':'stix', 'font.family': 'STIXGeneral', 'font.size': 24})\n",
    "mpl.rcParams.update({'lines.linewidth': 2, 'figure.dpi': 100, 'legend.fontsize': 20.0, 'legend.frameon': False})"
   ]
  },
  {
   "cell_type": "code",
   "execution_count": 19,
   "metadata": {
    "collapsed": true
   },
   "outputs": [],
   "source": [
    "choice = 'visc'\n",
    "#choice = 'nonhel'\n",
    "#choice = 'prandtl'\n",
    "#choice = 'delta'\n",
    "#choice = 'slope'"
   ]
  },
  {
   "cell_type": "code",
   "execution_count": 48,
   "metadata": {
    "collapsed": false
   },
   "outputs": [
    {
     "name": "stdout",
     "output_type": "stream",
     "text": [
      "['visc_nu_hyper_2e-14', 'visc_nu_hyper_5e-14', 'visc_nu_hyper_1e-13', 'visc_nu_hyper_6e-13', 'visc_nu_1e-5', 'visc_nu_5e-5', 'visc_nu_1e-4', 'visc_nu_2e-4']\n"
     ]
    }
   ],
   "source": [
    "dirs = sorted([l for l in listdir('.') if l.startswith(choice) and isdir(l)], key=sortdirs)\n",
    "print(dirs)\n",
    "verbose = False"
   ]
  },
  {
   "cell_type": "code",
   "execution_count": 83,
   "metadata": {
    "collapsed": true
   },
   "outputs": [],
   "source": [
    "def sortdirs(dd, flt=True):\n",
    "    if not choice == 'nonhel':\n",
    "        s = dd.split('_')[-1]\n",
    "    else:\n",
    "        s = dd.split('_')[-1][1:]\n",
    "    if flt:\n",
    "        return float(s)\n",
    "    else:\n",
    "        return s\n",
    "\n",
    "def to_times(s):\n",
    "    s1, s2 = s.split('e')\n",
    "    return r'{0}\\times 10^{{{1}}}'.format(s1, s2)\n"
   ]
  },
  {
   "cell_type": "code",
   "execution_count": 28,
   "metadata": {
    "collapsed": false,
    "scrolled": false
   },
   "outputs": [
    {
     "name": "stdout",
     "output_type": "stream",
     "text": [
      "visc_nu_hyper_2e-14\n",
      "visc_nu_hyper_5e-14\n",
      "visc_nu_hyper_1e-13\n",
      "visc_nu_hyper_6e-13\n",
      "visc_nu_1e-5\n",
      "visc_nu_5e-5\n",
      "visc_nu_1e-4\n",
      "visc_nu_2e-4\n"
     ]
    }
   ],
   "source": [
    "pb_dict = {}\n",
    "for dd in dirs:\n",
    "    if verbose: \n",
    "        print(dd)\n",
    "    try:\n",
    "        pb_dict[dd] = (np.loadtxt(join(dd, 'powertot.dat')), np.loadtxt(join(dd, 'ttot.dat')))\n",
    "    except FileNotFoundError:\n",
    "        pb_dict[dd] = pc.read_power('power_mag.dat', datadir=dd) "
   ]
  },
  {
   "cell_type": "code",
   "execution_count": 50,
   "metadata": {
    "collapsed": false
   },
   "outputs": [],
   "source": [
    "first_dir = True\n",
    "kmax_tot = {}\n",
    "for dd in dirs: \n",
    "    p0 = (-12.92758524, 1.94666781, 3.4643292)  #(-15.56, 2.20, 4.26)\n",
    "    if verbose: \n",
    "        print('dir: ', dd)\n",
    "    kmax = []\n",
    "    dim = pc.read_dim(datadir=dd)\n",
    "    krms = np.loadtxt(join(dd, 'power_krms.dat')).flatten()[:dim.nxgrid//2]\n",
    "    xi = dim.nxgrid//2\n",
    "    t, powerb = pb_dict[dd]\n",
    "    if verbose: \n",
    "        print(t.shape, powerb.shape)\n",
    "    for p,pb in enumerate(powerb):\n",
    "        xi = np.where( pb == pb[:xi+1].max())[0][0]; xi1 = xi - xi//3; xi2 = xi + xi//2\n",
    "        try:\n",
    "            po, pco = curve_fit(parabola, np.log10(krms[xi1:xi2]), np.log10(pb[xi1:xi2]), p0=p0)\n",
    "            if p == 0 and verbose and first_dir:\n",
    "                print('po : ',po)\n",
    "        except RuntimeError:\n",
    "            print(xi, xi1, xi2)\n",
    "        p0 = po\n",
    "        kmax.append(10**po[1])\n",
    "    if verbose:\n",
    "        print('len(kmax, t): ',len(kmax), t.shape)\n",
    "    kmax_tot[dd] = kmax\n",
    "    first_dir = False"
   ]
  },
  {
   "cell_type": "code",
   "execution_count": 104,
   "metadata": {
    "collapsed": false
   },
   "outputs": [
    {
     "data": {
      "text/plain": [
       "<matplotlib.legend.Legend at 0x2acd7d365278>"
      ]
     },
     "execution_count": 104,
     "metadata": {},
     "output_type": "execute_result"
    },
    {
     "data": {
      "image/png": "[encoded data removed]",
      "text/plain": [
       "<matplotlib.figure.Figure at 0x2acd7daddac8>"
      ]
     },
     "metadata": {},
     "output_type": "display_data"
    }
   ],
   "source": [
    "fig, ax = plt.subplots(figsize=(12,9))\n",
    "tplot = 10\n",
    "fhyper = True\n",
    "fnu = True\n",
    "for i,dd in enumerate(dirs):\n",
    "    if verbose: print(dd)\n",
    "    indx = search_indx(pb_dict[dd][0], tplot)\n",
    "    if verbose: print(indx)\n",
    "    k10 = kmax_tot[dd][indx]\n",
    "    #print(k10)\n",
    "    if 'hyper'  in dd.split('_'):\n",
    "        clr = 'red'\n",
    "        if fhyper:\n",
    "            ll = r'$\\nu_{hyper3}$'\n",
    "        else:\n",
    "            ll =''\n",
    "        fhyper = False\n",
    "    else:\n",
    "        clr = 'blue'\n",
    "        if fnu:\n",
    "            ll = r'$\\nu_{const}$'\n",
    "        else:\n",
    "            ll = ''\n",
    "        fnu = False\n",
    "    ax.plot(i, 1/k10, 'o', color=clr, markersize=14, label=ll)\n",
    "ax.set_xlim(-.5,7.5)\n",
    "ax.set_xticks(range(len(dirs)))\n",
    "ax.text(.9,0.1, 't=%.0f'% pb_dict[dirs[-1]][0][indx], transform=ax.transAxes)\n",
    "ax.set_xticklabels(['%.0e' % sortdirs(s) for s in dirs])\n",
    "#ax.set_xticklabels(['$%s$' % to_times(sortdirs(s, flt=False)) for s in dirs], rotation=45)\n",
    "ax.legend(loc='upper left', numpoints=1)"
   ]
  },
  {
   "cell_type": "code",
   "execution_count": 91,
   "metadata": {
    "collapsed": false
   },
   "outputs": [
    {
     "name": "stdout",
     "output_type": "stream",
     "text": [
      "['2\\\\times 10^{-14}', '5\\\\times 10^{-14}', '1\\\\times 10^{-13}', '6\\\\times 10^{-13}', '1\\\\times 10^{-5}', '5\\\\times 10^{-5}', '1\\\\times 10^{-4}', '2\\\\times 10^{-4}']\n"
     ]
    }
   ],
   "source": [
    "print([to_times(sortdirs(s, flt=False)) for s in dirs])"
   ]
  },
  {
   "cell_type": "code",
   "execution_count": 96,
   "metadata": {
    "collapsed": true
   },
   "outputs": [],
   "source": [
    "ax.set_xticklabels?"
   ]
  },
  {
   "cell_type": "code",
   "execution_count": null,
   "metadata": {
    "collapsed": true
   },
   "outputs": [],
   "source": []
  }
 ],
 "metadata": {
  "kernelspec": {
   "display_name": "Python 3",
   "language": "python",
   "name": "python3"
  },
  "language_info": {
   "codemirror_mode": {
    "name": "ipython",
    "version": 3
   },
   "file_extension": ".py",
   "mimetype": "text/x-python",
   "name": "python",
   "nbconvert_exporter": "python",
   "pygments_lexer": "ipython3",
   "version": "3.5.1"
  }
 },
 "nbformat": 4,
 "nbformat_minor": 0
}
